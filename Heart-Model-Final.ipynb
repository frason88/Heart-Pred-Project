{
 "cells": [
  {
   "cell_type": "code",
   "execution_count": 1,
   "metadata": {},
   "outputs": [],
   "source": [
    "# Importing Libraries\n",
    "\n",
    "import warnings\n",
    "warnings.filterwarnings('ignore')\n",
    "\n",
    "import numpy as np\n",
    "import pandas as pd\n",
    "import matplotlib.pyplot as plt\n",
    "import seaborn as sns\n",
    "from itertools import permutations  #Permutation and Combination in Python\n",
    "\n",
    "from sklearn.ensemble import RandomForestClassifier\n",
    "from sklearn.preprocessing import StandardScaler\n",
    "from sklearn.ensemble import VotingClassifier\n",
    "from sklearn.svm import SVC\n",
    "from sklearn.model_selection import RandomizedSearchCV, train_test_split, GridSearchCV\n",
    "from sklearn.linear_model import LogisticRegression\n",
    "from sklearn.metrics import confusion_matrix, classification_report, accuracy_score, roc_curve, roc_auc_score\n",
    "from sklearn.model_selection import cross_val_score"
   ]
  },
  {
   "cell_type": "code",
   "execution_count": 2,
   "metadata": {},
   "outputs": [],
   "source": [
    "# Getting our data\n",
    "\n",
    "data = pd.read_csv('heart.csv')"
   ]
  },
  {
   "cell_type": "code",
   "execution_count": 3,
   "metadata": {},
   "outputs": [
    {
     "data": {
      "text/html": [
       "<div>\n",
       "<style scoped>\n",
       "    .dataframe tbody tr th:only-of-type {\n",
       "        vertical-align: middle;\n",
       "    }\n",
       "\n",
       "    .dataframe tbody tr th {\n",
       "        vertical-align: top;\n",
       "    }\n",
       "\n",
       "    .dataframe thead th {\n",
       "        text-align: right;\n",
       "    }\n",
       "</style>\n",
       "<table border=\"1\" class=\"dataframe\">\n",
       "  <thead>\n",
       "    <tr style=\"text-align: right;\">\n",
       "      <th></th>\n",
       "      <th>age</th>\n",
       "      <th>sex</th>\n",
       "      <th>cp</th>\n",
       "      <th>trestbps</th>\n",
       "      <th>chol</th>\n",
       "      <th>fbs</th>\n",
       "      <th>restecg</th>\n",
       "      <th>thalach</th>\n",
       "      <th>exang</th>\n",
       "      <th>oldpeak</th>\n",
       "      <th>slope</th>\n",
       "      <th>ca</th>\n",
       "      <th>thal</th>\n",
       "      <th>target</th>\n",
       "    </tr>\n",
       "  </thead>\n",
       "  <tbody>\n",
       "    <tr>\n",
       "      <th>0</th>\n",
       "      <td>63</td>\n",
       "      <td>1</td>\n",
       "      <td>3</td>\n",
       "      <td>145</td>\n",
       "      <td>233</td>\n",
       "      <td>1</td>\n",
       "      <td>0</td>\n",
       "      <td>150</td>\n",
       "      <td>0</td>\n",
       "      <td>2.3</td>\n",
       "      <td>0</td>\n",
       "      <td>0</td>\n",
       "      <td>1</td>\n",
       "      <td>1</td>\n",
       "    </tr>\n",
       "    <tr>\n",
       "      <th>1</th>\n",
       "      <td>37</td>\n",
       "      <td>1</td>\n",
       "      <td>2</td>\n",
       "      <td>130</td>\n",
       "      <td>250</td>\n",
       "      <td>0</td>\n",
       "      <td>1</td>\n",
       "      <td>187</td>\n",
       "      <td>0</td>\n",
       "      <td>3.5</td>\n",
       "      <td>0</td>\n",
       "      <td>0</td>\n",
       "      <td>2</td>\n",
       "      <td>1</td>\n",
       "    </tr>\n",
       "    <tr>\n",
       "      <th>2</th>\n",
       "      <td>41</td>\n",
       "      <td>0</td>\n",
       "      <td>1</td>\n",
       "      <td>130</td>\n",
       "      <td>204</td>\n",
       "      <td>0</td>\n",
       "      <td>0</td>\n",
       "      <td>172</td>\n",
       "      <td>0</td>\n",
       "      <td>1.4</td>\n",
       "      <td>2</td>\n",
       "      <td>0</td>\n",
       "      <td>2</td>\n",
       "      <td>1</td>\n",
       "    </tr>\n",
       "    <tr>\n",
       "      <th>3</th>\n",
       "      <td>56</td>\n",
       "      <td>1</td>\n",
       "      <td>1</td>\n",
       "      <td>120</td>\n",
       "      <td>236</td>\n",
       "      <td>0</td>\n",
       "      <td>1</td>\n",
       "      <td>178</td>\n",
       "      <td>0</td>\n",
       "      <td>0.8</td>\n",
       "      <td>2</td>\n",
       "      <td>0</td>\n",
       "      <td>2</td>\n",
       "      <td>1</td>\n",
       "    </tr>\n",
       "    <tr>\n",
       "      <th>4</th>\n",
       "      <td>57</td>\n",
       "      <td>0</td>\n",
       "      <td>0</td>\n",
       "      <td>120</td>\n",
       "      <td>354</td>\n",
       "      <td>0</td>\n",
       "      <td>1</td>\n",
       "      <td>163</td>\n",
       "      <td>1</td>\n",
       "      <td>0.6</td>\n",
       "      <td>2</td>\n",
       "      <td>0</td>\n",
       "      <td>2</td>\n",
       "      <td>1</td>\n",
       "    </tr>\n",
       "  </tbody>\n",
       "</table>\n",
       "</div>"
      ],
      "text/plain": [
       "   age  sex  cp  trestbps  chol  fbs  restecg  thalach  exang  oldpeak  slope  \\\n",
       "0   63    1   3       145   233    1        0      150      0      2.3      0   \n",
       "1   37    1   2       130   250    0        1      187      0      3.5      0   \n",
       "2   41    0   1       130   204    0        0      172      0      1.4      2   \n",
       "3   56    1   1       120   236    0        1      178      0      0.8      2   \n",
       "4   57    0   0       120   354    0        1      163      1      0.6      2   \n",
       "\n",
       "   ca  thal  target  \n",
       "0   0     1       1  \n",
       "1   0     2       1  \n",
       "2   0     2       1  \n",
       "3   0     2       1  \n",
       "4   0     2       1  "
      ]
     },
     "execution_count": 3,
     "metadata": {},
     "output_type": "execute_result"
    }
   ],
   "source": [
    "data.head()"
   ]
  },
  {
   "cell_type": "code",
   "execution_count": 4,
   "metadata": {},
   "outputs": [],
   "source": [
    "# Renaming the columns for better understanding of features \n",
    "\n",
    "data.columns = ['age', 'sex', 'chest_pain_type', 'resting_blood_pressure', 'serum_cholesterol', 'fasting_blood_sugar', 'rest_ecg', 'max_heart_rate',\n",
    "       'exercise_angina', 'st_depression', 'st_slope', 'num_major_vessels', 'thalassemia', 'target']"
   ]
  },
  {
   "cell_type": "code",
   "execution_count": 5,
   "metadata": {
    "scrolled": true
   },
   "outputs": [
    {
     "data": {
      "text/html": [
       "<div>\n",
       "<style scoped>\n",
       "    .dataframe tbody tr th:only-of-type {\n",
       "        vertical-align: middle;\n",
       "    }\n",
       "\n",
       "    .dataframe tbody tr th {\n",
       "        vertical-align: top;\n",
       "    }\n",
       "\n",
       "    .dataframe thead th {\n",
       "        text-align: right;\n",
       "    }\n",
       "</style>\n",
       "<table border=\"1\" class=\"dataframe\">\n",
       "  <thead>\n",
       "    <tr style=\"text-align: right;\">\n",
       "      <th></th>\n",
       "      <th>age</th>\n",
       "      <th>sex</th>\n",
       "      <th>chest_pain_type</th>\n",
       "      <th>resting_blood_pressure</th>\n",
       "      <th>serum_cholesterol</th>\n",
       "      <th>fasting_blood_sugar</th>\n",
       "      <th>rest_ecg</th>\n",
       "      <th>max_heart_rate</th>\n",
       "      <th>exercise_angina</th>\n",
       "      <th>st_depression</th>\n",
       "      <th>st_slope</th>\n",
       "      <th>num_major_vessels</th>\n",
       "      <th>thalassemia</th>\n",
       "      <th>target</th>\n",
       "    </tr>\n",
       "  </thead>\n",
       "  <tbody>\n",
       "    <tr>\n",
       "      <th>0</th>\n",
       "      <td>63</td>\n",
       "      <td>1</td>\n",
       "      <td>3</td>\n",
       "      <td>145</td>\n",
       "      <td>233</td>\n",
       "      <td>1</td>\n",
       "      <td>0</td>\n",
       "      <td>150</td>\n",
       "      <td>0</td>\n",
       "      <td>2.3</td>\n",
       "      <td>0</td>\n",
       "      <td>0</td>\n",
       "      <td>1</td>\n",
       "      <td>1</td>\n",
       "    </tr>\n",
       "    <tr>\n",
       "      <th>1</th>\n",
       "      <td>37</td>\n",
       "      <td>1</td>\n",
       "      <td>2</td>\n",
       "      <td>130</td>\n",
       "      <td>250</td>\n",
       "      <td>0</td>\n",
       "      <td>1</td>\n",
       "      <td>187</td>\n",
       "      <td>0</td>\n",
       "      <td>3.5</td>\n",
       "      <td>0</td>\n",
       "      <td>0</td>\n",
       "      <td>2</td>\n",
       "      <td>1</td>\n",
       "    </tr>\n",
       "    <tr>\n",
       "      <th>2</th>\n",
       "      <td>41</td>\n",
       "      <td>0</td>\n",
       "      <td>1</td>\n",
       "      <td>130</td>\n",
       "      <td>204</td>\n",
       "      <td>0</td>\n",
       "      <td>0</td>\n",
       "      <td>172</td>\n",
       "      <td>0</td>\n",
       "      <td>1.4</td>\n",
       "      <td>2</td>\n",
       "      <td>0</td>\n",
       "      <td>2</td>\n",
       "      <td>1</td>\n",
       "    </tr>\n",
       "    <tr>\n",
       "      <th>3</th>\n",
       "      <td>56</td>\n",
       "      <td>1</td>\n",
       "      <td>1</td>\n",
       "      <td>120</td>\n",
       "      <td>236</td>\n",
       "      <td>0</td>\n",
       "      <td>1</td>\n",
       "      <td>178</td>\n",
       "      <td>0</td>\n",
       "      <td>0.8</td>\n",
       "      <td>2</td>\n",
       "      <td>0</td>\n",
       "      <td>2</td>\n",
       "      <td>1</td>\n",
       "    </tr>\n",
       "    <tr>\n",
       "      <th>4</th>\n",
       "      <td>57</td>\n",
       "      <td>0</td>\n",
       "      <td>0</td>\n",
       "      <td>120</td>\n",
       "      <td>354</td>\n",
       "      <td>0</td>\n",
       "      <td>1</td>\n",
       "      <td>163</td>\n",
       "      <td>1</td>\n",
       "      <td>0.6</td>\n",
       "      <td>2</td>\n",
       "      <td>0</td>\n",
       "      <td>2</td>\n",
       "      <td>1</td>\n",
       "    </tr>\n",
       "  </tbody>\n",
       "</table>\n",
       "</div>"
      ],
      "text/plain": [
       "   age  sex  chest_pain_type  resting_blood_pressure  serum_cholesterol  \\\n",
       "0   63    1                3                     145                233   \n",
       "1   37    1                2                     130                250   \n",
       "2   41    0                1                     130                204   \n",
       "3   56    1                1                     120                236   \n",
       "4   57    0                0                     120                354   \n",
       "\n",
       "   fasting_blood_sugar  rest_ecg  max_heart_rate  exercise_angina  \\\n",
       "0                    1         0             150                0   \n",
       "1                    0         1             187                0   \n",
       "2                    0         0             172                0   \n",
       "3                    0         1             178                0   \n",
       "4                    0         1             163                1   \n",
       "\n",
       "   st_depression  st_slope  num_major_vessels  thalassemia  target  \n",
       "0            2.3         0                  0            1       1  \n",
       "1            3.5         0                  0            2       1  \n",
       "2            1.4         2                  0            2       1  \n",
       "3            0.8         2                  0            2       1  \n",
       "4            0.6         2                  0            2       1  "
      ]
     },
     "execution_count": 5,
     "metadata": {},
     "output_type": "execute_result"
    }
   ],
   "source": [
    "data.head()"
   ]
  },
  {
   "cell_type": "code",
   "execution_count": 6,
   "metadata": {},
   "outputs": [
    {
     "data": {
      "text/html": [
       "<style  type=\"text/css\" >\n",
       "#T_5324c_row0_col0{\n",
       "            background-color:  #ffc77f;\n",
       "            color:  #000000;\n",
       "        }#T_5324c_row1_col0{\n",
       "            background-color:  #bf794d;\n",
       "            color:  #000000;\n",
       "        }#T_5324c_row2_col0{\n",
       "            background-color:  #bc774c;\n",
       "            color:  #000000;\n",
       "        }#T_5324c_row3_col0{\n",
       "            background-color:  #ac6d45;\n",
       "            color:  #000000;\n",
       "        }#T_5324c_row4_col0{\n",
       "            background-color:  #7e5033;\n",
       "            color:  #f1f1f1;\n",
       "        }#T_5324c_row5_col0{\n",
       "            background-color:  #593824;\n",
       "            color:  #f1f1f1;\n",
       "        }#T_5324c_row6_col0{\n",
       "            background-color:  #4d301f;\n",
       "            color:  #f1f1f1;\n",
       "        }#T_5324c_row7_col0{\n",
       "            background-color:  #3f2819;\n",
       "            color:  #f1f1f1;\n",
       "        }#T_5324c_row8_col0{\n",
       "            background-color:  #2e1d12;\n",
       "            color:  #f1f1f1;\n",
       "        }#T_5324c_row9_col0{\n",
       "            background-color:  #21150d;\n",
       "            color:  #f1f1f1;\n",
       "        }#T_5324c_row10_col0{\n",
       "            background-color:  #140c08;\n",
       "            color:  #f1f1f1;\n",
       "        }#T_5324c_row11_col0{\n",
       "            background-color:  #0a0604;\n",
       "            color:  #f1f1f1;\n",
       "        }#T_5324c_row12_col0{\n",
       "            background-color:  #010100;\n",
       "            color:  #f1f1f1;\n",
       "        }#T_5324c_row13_col0{\n",
       "            background-color:  #000000;\n",
       "            color:  #f1f1f1;\n",
       "        }</style><table id=\"T_5324c_\" ><thead>    <tr>        <th class=\"blank level0\" ></th>        <th class=\"col_heading level0 col0\" >target</th>    </tr></thead><tbody>\n",
       "                <tr>\n",
       "                        <th id=\"T_5324c_level0_row0\" class=\"row_heading level0 row0\" >target</th>\n",
       "                        <td id=\"T_5324c_row0_col0\" class=\"data row0 col0\" >1.000000</td>\n",
       "            </tr>\n",
       "            <tr>\n",
       "                        <th id=\"T_5324c_level0_row1\" class=\"row_heading level0 row1\" >chest_pain_type</th>\n",
       "                        <td id=\"T_5324c_row1_col0\" class=\"data row1 col0\" >0.433798</td>\n",
       "            </tr>\n",
       "            <tr>\n",
       "                        <th id=\"T_5324c_level0_row2\" class=\"row_heading level0 row2\" >max_heart_rate</th>\n",
       "                        <td id=\"T_5324c_row2_col0\" class=\"data row2 col0\" >0.421741</td>\n",
       "            </tr>\n",
       "            <tr>\n",
       "                        <th id=\"T_5324c_level0_row3\" class=\"row_heading level0 row3\" >st_slope</th>\n",
       "                        <td id=\"T_5324c_row3_col0\" class=\"data row3 col0\" >0.345877</td>\n",
       "            </tr>\n",
       "            <tr>\n",
       "                        <th id=\"T_5324c_level0_row4\" class=\"row_heading level0 row4\" >rest_ecg</th>\n",
       "                        <td id=\"T_5324c_row4_col0\" class=\"data row4 col0\" >0.137230</td>\n",
       "            </tr>\n",
       "            <tr>\n",
       "                        <th id=\"T_5324c_level0_row5\" class=\"row_heading level0 row5\" >fasting_blood_sugar</th>\n",
       "                        <td id=\"T_5324c_row5_col0\" class=\"data row5 col0\" >-0.028046</td>\n",
       "            </tr>\n",
       "            <tr>\n",
       "                        <th id=\"T_5324c_level0_row6\" class=\"row_heading level0 row6\" >serum_cholesterol</th>\n",
       "                        <td id=\"T_5324c_row6_col0\" class=\"data row6 col0\" >-0.085239</td>\n",
       "            </tr>\n",
       "            <tr>\n",
       "                        <th id=\"T_5324c_level0_row7\" class=\"row_heading level0 row7\" >resting_blood_pressure</th>\n",
       "                        <td id=\"T_5324c_row7_col0\" class=\"data row7 col0\" >-0.144931</td>\n",
       "            </tr>\n",
       "            <tr>\n",
       "                        <th id=\"T_5324c_level0_row8\" class=\"row_heading level0 row8\" >age</th>\n",
       "                        <td id=\"T_5324c_row8_col0\" class=\"data row8 col0\" >-0.225439</td>\n",
       "            </tr>\n",
       "            <tr>\n",
       "                        <th id=\"T_5324c_level0_row9\" class=\"row_heading level0 row9\" >sex</th>\n",
       "                        <td id=\"T_5324c_row9_col0\" class=\"data row9 col0\" >-0.280937</td>\n",
       "            </tr>\n",
       "            <tr>\n",
       "                        <th id=\"T_5324c_level0_row10\" class=\"row_heading level0 row10\" >thalassemia</th>\n",
       "                        <td id=\"T_5324c_row10_col0\" class=\"data row10 col0\" >-0.344029</td>\n",
       "            </tr>\n",
       "            <tr>\n",
       "                        <th id=\"T_5324c_level0_row11\" class=\"row_heading level0 row11\" >num_major_vessels</th>\n",
       "                        <td id=\"T_5324c_row11_col0\" class=\"data row11 col0\" >-0.391724</td>\n",
       "            </tr>\n",
       "            <tr>\n",
       "                        <th id=\"T_5324c_level0_row12\" class=\"row_heading level0 row12\" >st_depression</th>\n",
       "                        <td id=\"T_5324c_row12_col0\" class=\"data row12 col0\" >-0.430696</td>\n",
       "            </tr>\n",
       "            <tr>\n",
       "                        <th id=\"T_5324c_level0_row13\" class=\"row_heading level0 row13\" >exercise_angina</th>\n",
       "                        <td id=\"T_5324c_row13_col0\" class=\"data row13 col0\" >-0.436757</td>\n",
       "            </tr>\n",
       "    </tbody></table>"
      ],
      "text/plain": [
       "<pandas.io.formats.style.Styler at 0x58fdab0>"
      ]
     },
     "execution_count": 6,
     "metadata": {},
     "output_type": "execute_result"
    }
   ],
   "source": [
    "# Lets see how our features correlate with the target variable \n",
    "#corr() function to find the correlation among the columns in the dataframe\n",
    "x = data.corr()\n",
    "pd.DataFrame(x['target']).sort_values(by='target',ascending = False).style.background_gradient(cmap = 'copper')"
   ]
  },
  {
   "cell_type": "markdown",
   "metadata": {},
   "source": [
    "**As we saw in EDA that chest_pain_type and max_heart_rate have decent positive correlation with our target. Now these numbers say the same thing!** "
   ]
  },
  {
   "cell_type": "markdown",
   "metadata": {},
   "source": [
    "# Preprocessing"
   ]
  },
  {
   "cell_type": "code",
   "execution_count": 7,
   "metadata": {},
   "outputs": [],
   "source": [
    "# NOTE: This step is not necessary, I am performing it to avoid renaming of columns after One Hot Encoding. Also,\n",
    "# here we will leave two class variables as they are already one hot encoded\n",
    "\n",
    "# Let's map these class values to something meaningful information given in dataset description\n",
    "\n",
    "\n",
    "data.chest_pain_type = data.chest_pain_type.map({1:'angina pectoris', 2:'atypical angina', 3:'non-anginal pain', 4:'SMI', 0:'absent'})\n",
    "\n",
    "data.st_slope = data.st_slope.map({1:'upsloping', 2:'horizontal', 3:'downsloping', 0:'absent'})\n",
    "\n",
    "data.thalassemia = data.thalassemia.map({1:'normal', 2:'fixed defect', 3:'reversable defect', 0:'absent'})"
   ]
  },
  {
   "cell_type": "code",
   "execution_count": 6,
   "metadata": {},
   "outputs": [
    {
     "data": {
      "text/html": [
       "<div>\n",
       "<style scoped>\n",
       "    .dataframe tbody tr th:only-of-type {\n",
       "        vertical-align: middle;\n",
       "    }\n",
       "\n",
       "    .dataframe tbody tr th {\n",
       "        vertical-align: top;\n",
       "    }\n",
       "\n",
       "    .dataframe thead th {\n",
       "        text-align: right;\n",
       "    }\n",
       "</style>\n",
       "<table border=\"1\" class=\"dataframe\">\n",
       "  <thead>\n",
       "    <tr style=\"text-align: right;\">\n",
       "      <th></th>\n",
       "      <th>age</th>\n",
       "      <th>sex</th>\n",
       "      <th>chest_pain_type</th>\n",
       "      <th>resting_blood_pressure</th>\n",
       "      <th>serum_cholesterol</th>\n",
       "      <th>fasting_blood_sugar</th>\n",
       "      <th>rest_ecg</th>\n",
       "      <th>max_heart_rate</th>\n",
       "      <th>exercise_angina</th>\n",
       "      <th>st_depression</th>\n",
       "      <th>st_slope</th>\n",
       "      <th>num_major_vessels</th>\n",
       "      <th>thalassemia</th>\n",
       "      <th>target</th>\n",
       "    </tr>\n",
       "  </thead>\n",
       "  <tbody>\n",
       "    <tr>\n",
       "      <th>0</th>\n",
       "      <td>63</td>\n",
       "      <td>1</td>\n",
       "      <td>non-anginal pain</td>\n",
       "      <td>145</td>\n",
       "      <td>233</td>\n",
       "      <td>1</td>\n",
       "      <td>0</td>\n",
       "      <td>150</td>\n",
       "      <td>0</td>\n",
       "      <td>2.3</td>\n",
       "      <td>absent</td>\n",
       "      <td>0</td>\n",
       "      <td>normal</td>\n",
       "      <td>1</td>\n",
       "    </tr>\n",
       "    <tr>\n",
       "      <th>1</th>\n",
       "      <td>37</td>\n",
       "      <td>1</td>\n",
       "      <td>atypical angina</td>\n",
       "      <td>130</td>\n",
       "      <td>250</td>\n",
       "      <td>0</td>\n",
       "      <td>1</td>\n",
       "      <td>187</td>\n",
       "      <td>0</td>\n",
       "      <td>3.5</td>\n",
       "      <td>absent</td>\n",
       "      <td>0</td>\n",
       "      <td>fixed defect</td>\n",
       "      <td>1</td>\n",
       "    </tr>\n",
       "    <tr>\n",
       "      <th>2</th>\n",
       "      <td>41</td>\n",
       "      <td>0</td>\n",
       "      <td>angina pectoris</td>\n",
       "      <td>130</td>\n",
       "      <td>204</td>\n",
       "      <td>0</td>\n",
       "      <td>0</td>\n",
       "      <td>172</td>\n",
       "      <td>0</td>\n",
       "      <td>1.4</td>\n",
       "      <td>horizontal</td>\n",
       "      <td>0</td>\n",
       "      <td>fixed defect</td>\n",
       "      <td>1</td>\n",
       "    </tr>\n",
       "    <tr>\n",
       "      <th>3</th>\n",
       "      <td>56</td>\n",
       "      <td>1</td>\n",
       "      <td>angina pectoris</td>\n",
       "      <td>120</td>\n",
       "      <td>236</td>\n",
       "      <td>0</td>\n",
       "      <td>1</td>\n",
       "      <td>178</td>\n",
       "      <td>0</td>\n",
       "      <td>0.8</td>\n",
       "      <td>horizontal</td>\n",
       "      <td>0</td>\n",
       "      <td>fixed defect</td>\n",
       "      <td>1</td>\n",
       "    </tr>\n",
       "    <tr>\n",
       "      <th>4</th>\n",
       "      <td>57</td>\n",
       "      <td>0</td>\n",
       "      <td>absent</td>\n",
       "      <td>120</td>\n",
       "      <td>354</td>\n",
       "      <td>0</td>\n",
       "      <td>1</td>\n",
       "      <td>163</td>\n",
       "      <td>1</td>\n",
       "      <td>0.6</td>\n",
       "      <td>horizontal</td>\n",
       "      <td>0</td>\n",
       "      <td>fixed defect</td>\n",
       "      <td>1</td>\n",
       "    </tr>\n",
       "  </tbody>\n",
       "</table>\n",
       "</div>"
      ],
      "text/plain": [
       "   age  sex   chest_pain_type  resting_blood_pressure  serum_cholesterol  \\\n",
       "0   63    1  non-anginal pain                     145                233   \n",
       "1   37    1   atypical angina                     130                250   \n",
       "2   41    0   angina pectoris                     130                204   \n",
       "3   56    1   angina pectoris                     120                236   \n",
       "4   57    0            absent                     120                354   \n",
       "\n",
       "   fasting_blood_sugar  rest_ecg  max_heart_rate  exercise_angina  \\\n",
       "0                    1         0             150                0   \n",
       "1                    0         1             187                0   \n",
       "2                    0         0             172                0   \n",
       "3                    0         1             178                0   \n",
       "4                    0         1             163                1   \n",
       "\n",
       "   st_depression    st_slope  num_major_vessels   thalassemia  target  \n",
       "0            2.3      absent                  0        normal       1  \n",
       "1            3.5      absent                  0  fixed defect       1  \n",
       "2            1.4  horizontal                  0  fixed defect       1  \n",
       "3            0.8  horizontal                  0  fixed defect       1  \n",
       "4            0.6  horizontal                  0  fixed defect       1  "
      ]
     },
     "execution_count": 6,
     "metadata": {},
     "output_type": "execute_result"
    }
   ],
   "source": [
    "data.head()"
   ]
  },
  {
   "cell_type": "code",
   "execution_count": 8,
   "metadata": {},
   "outputs": [],
   "source": [
    "# Seperating out predictors(X) and target(Y)\n",
    "\n",
    "X = data.iloc[:, 0:13] #all rows and 0 to 12 columns of data frame\n",
    "\n",
    "Y = data.iloc[:, -1] #last column of data frame"
   ]
  },
  {
   "cell_type": "code",
   "execution_count": 9,
   "metadata": {},
   "outputs": [
    {
     "data": {
      "text/html": [
       "<div>\n",
       "<style scoped>\n",
       "    .dataframe tbody tr th:only-of-type {\n",
       "        vertical-align: middle;\n",
       "    }\n",
       "\n",
       "    .dataframe tbody tr th {\n",
       "        vertical-align: top;\n",
       "    }\n",
       "\n",
       "    .dataframe thead th {\n",
       "        text-align: right;\n",
       "    }\n",
       "</style>\n",
       "<table border=\"1\" class=\"dataframe\">\n",
       "  <thead>\n",
       "    <tr style=\"text-align: right;\">\n",
       "      <th></th>\n",
       "      <th>age</th>\n",
       "      <th>sex</th>\n",
       "      <th>chest_pain_type</th>\n",
       "      <th>resting_blood_pressure</th>\n",
       "      <th>serum_cholesterol</th>\n",
       "      <th>fasting_blood_sugar</th>\n",
       "      <th>rest_ecg</th>\n",
       "      <th>max_heart_rate</th>\n",
       "      <th>exercise_angina</th>\n",
       "      <th>st_depression</th>\n",
       "      <th>st_slope</th>\n",
       "      <th>num_major_vessels</th>\n",
       "      <th>thalassemia</th>\n",
       "    </tr>\n",
       "  </thead>\n",
       "  <tbody>\n",
       "    <tr>\n",
       "      <th>0</th>\n",
       "      <td>63</td>\n",
       "      <td>1</td>\n",
       "      <td>non-anginal pain</td>\n",
       "      <td>145</td>\n",
       "      <td>233</td>\n",
       "      <td>1</td>\n",
       "      <td>0</td>\n",
       "      <td>150</td>\n",
       "      <td>0</td>\n",
       "      <td>2.3</td>\n",
       "      <td>absent</td>\n",
       "      <td>0</td>\n",
       "      <td>normal</td>\n",
       "    </tr>\n",
       "    <tr>\n",
       "      <th>1</th>\n",
       "      <td>37</td>\n",
       "      <td>1</td>\n",
       "      <td>atypical angina</td>\n",
       "      <td>130</td>\n",
       "      <td>250</td>\n",
       "      <td>0</td>\n",
       "      <td>1</td>\n",
       "      <td>187</td>\n",
       "      <td>0</td>\n",
       "      <td>3.5</td>\n",
       "      <td>absent</td>\n",
       "      <td>0</td>\n",
       "      <td>fixed defect</td>\n",
       "    </tr>\n",
       "    <tr>\n",
       "      <th>2</th>\n",
       "      <td>41</td>\n",
       "      <td>0</td>\n",
       "      <td>angina pectoris</td>\n",
       "      <td>130</td>\n",
       "      <td>204</td>\n",
       "      <td>0</td>\n",
       "      <td>0</td>\n",
       "      <td>172</td>\n",
       "      <td>0</td>\n",
       "      <td>1.4</td>\n",
       "      <td>horizontal</td>\n",
       "      <td>0</td>\n",
       "      <td>fixed defect</td>\n",
       "    </tr>\n",
       "    <tr>\n",
       "      <th>3</th>\n",
       "      <td>56</td>\n",
       "      <td>1</td>\n",
       "      <td>angina pectoris</td>\n",
       "      <td>120</td>\n",
       "      <td>236</td>\n",
       "      <td>0</td>\n",
       "      <td>1</td>\n",
       "      <td>178</td>\n",
       "      <td>0</td>\n",
       "      <td>0.8</td>\n",
       "      <td>horizontal</td>\n",
       "      <td>0</td>\n",
       "      <td>fixed defect</td>\n",
       "    </tr>\n",
       "    <tr>\n",
       "      <th>4</th>\n",
       "      <td>57</td>\n",
       "      <td>0</td>\n",
       "      <td>absent</td>\n",
       "      <td>120</td>\n",
       "      <td>354</td>\n",
       "      <td>0</td>\n",
       "      <td>1</td>\n",
       "      <td>163</td>\n",
       "      <td>1</td>\n",
       "      <td>0.6</td>\n",
       "      <td>horizontal</td>\n",
       "      <td>0</td>\n",
       "      <td>fixed defect</td>\n",
       "    </tr>\n",
       "  </tbody>\n",
       "</table>\n",
       "</div>"
      ],
      "text/plain": [
       "   age  sex   chest_pain_type  resting_blood_pressure  serum_cholesterol  \\\n",
       "0   63    1  non-anginal pain                     145                233   \n",
       "1   37    1   atypical angina                     130                250   \n",
       "2   41    0   angina pectoris                     130                204   \n",
       "3   56    1   angina pectoris                     120                236   \n",
       "4   57    0            absent                     120                354   \n",
       "\n",
       "   fasting_blood_sugar  rest_ecg  max_heart_rate  exercise_angina  \\\n",
       "0                    1         0             150                0   \n",
       "1                    0         1             187                0   \n",
       "2                    0         0             172                0   \n",
       "3                    0         1             178                0   \n",
       "4                    0         1             163                1   \n",
       "\n",
       "   st_depression    st_slope  num_major_vessels   thalassemia  \n",
       "0            2.3      absent                  0        normal  \n",
       "1            3.5      absent                  0  fixed defect  \n",
       "2            1.4  horizontal                  0  fixed defect  \n",
       "3            0.8  horizontal                  0  fixed defect  \n",
       "4            0.6  horizontal                  0  fixed defect  "
      ]
     },
     "execution_count": 9,
     "metadata": {},
     "output_type": "execute_result"
    }
   ],
   "source": [
    "X.head()"
   ]
  },
  {
   "cell_type": "code",
   "execution_count": 10,
   "metadata": {},
   "outputs": [],
   "source": [
    "# Encoding the categorical variables using get_dummies() \n",
    "categorical_columns = ['chest_pain_type', 'thalassemia', 'st_slope']\n",
    "\n",
    "for column in categorical_columns:\n",
    "    dummies = pd.get_dummies(X[column], drop_first = True)\n",
    "    X[dummies.columns] = dummies\n",
    "    X.drop(column, axis =1, inplace = True)"
   ]
  },
  {
   "cell_type": "markdown",
   "metadata": {},
   "source": [
    "**Note that I have passed drop_first as True in get_dummies function to avoid dummy variable trap. It is not very necessary in models where you apply L1 or L2 regularization as it will balance any collinearity caused by dummy columns.**\n"
   ]
  },
  {
   "cell_type": "code",
   "execution_count": 11,
   "metadata": {},
   "outputs": [
    {
     "data": {
      "text/html": [
       "<div>\n",
       "<style scoped>\n",
       "    .dataframe tbody tr th:only-of-type {\n",
       "        vertical-align: middle;\n",
       "    }\n",
       "\n",
       "    .dataframe tbody tr th {\n",
       "        vertical-align: top;\n",
       "    }\n",
       "\n",
       "    .dataframe thead th {\n",
       "        text-align: right;\n",
       "    }\n",
       "</style>\n",
       "<table border=\"1\" class=\"dataframe\">\n",
       "  <thead>\n",
       "    <tr style=\"text-align: right;\">\n",
       "      <th></th>\n",
       "      <th>age</th>\n",
       "      <th>sex</th>\n",
       "      <th>resting_blood_pressure</th>\n",
       "      <th>serum_cholesterol</th>\n",
       "      <th>fasting_blood_sugar</th>\n",
       "      <th>rest_ecg</th>\n",
       "      <th>max_heart_rate</th>\n",
       "      <th>exercise_angina</th>\n",
       "      <th>st_depression</th>\n",
       "      <th>num_major_vessels</th>\n",
       "      <th>angina pectoris</th>\n",
       "      <th>atypical angina</th>\n",
       "      <th>non-anginal pain</th>\n",
       "      <th>fixed defect</th>\n",
       "      <th>normal</th>\n",
       "      <th>reversable defect</th>\n",
       "      <th>horizontal</th>\n",
       "      <th>upsloping</th>\n",
       "    </tr>\n",
       "  </thead>\n",
       "  <tbody>\n",
       "    <tr>\n",
       "      <th>0</th>\n",
       "      <td>63</td>\n",
       "      <td>1</td>\n",
       "      <td>145</td>\n",
       "      <td>233</td>\n",
       "      <td>1</td>\n",
       "      <td>0</td>\n",
       "      <td>150</td>\n",
       "      <td>0</td>\n",
       "      <td>2.3</td>\n",
       "      <td>0</td>\n",
       "      <td>0</td>\n",
       "      <td>0</td>\n",
       "      <td>1</td>\n",
       "      <td>0</td>\n",
       "      <td>1</td>\n",
       "      <td>0</td>\n",
       "      <td>0</td>\n",
       "      <td>0</td>\n",
       "    </tr>\n",
       "    <tr>\n",
       "      <th>1</th>\n",
       "      <td>37</td>\n",
       "      <td>1</td>\n",
       "      <td>130</td>\n",
       "      <td>250</td>\n",
       "      <td>0</td>\n",
       "      <td>1</td>\n",
       "      <td>187</td>\n",
       "      <td>0</td>\n",
       "      <td>3.5</td>\n",
       "      <td>0</td>\n",
       "      <td>0</td>\n",
       "      <td>1</td>\n",
       "      <td>0</td>\n",
       "      <td>1</td>\n",
       "      <td>0</td>\n",
       "      <td>0</td>\n",
       "      <td>0</td>\n",
       "      <td>0</td>\n",
       "    </tr>\n",
       "    <tr>\n",
       "      <th>2</th>\n",
       "      <td>41</td>\n",
       "      <td>0</td>\n",
       "      <td>130</td>\n",
       "      <td>204</td>\n",
       "      <td>0</td>\n",
       "      <td>0</td>\n",
       "      <td>172</td>\n",
       "      <td>0</td>\n",
       "      <td>1.4</td>\n",
       "      <td>0</td>\n",
       "      <td>1</td>\n",
       "      <td>0</td>\n",
       "      <td>0</td>\n",
       "      <td>1</td>\n",
       "      <td>0</td>\n",
       "      <td>0</td>\n",
       "      <td>1</td>\n",
       "      <td>0</td>\n",
       "    </tr>\n",
       "    <tr>\n",
       "      <th>3</th>\n",
       "      <td>56</td>\n",
       "      <td>1</td>\n",
       "      <td>120</td>\n",
       "      <td>236</td>\n",
       "      <td>0</td>\n",
       "      <td>1</td>\n",
       "      <td>178</td>\n",
       "      <td>0</td>\n",
       "      <td>0.8</td>\n",
       "      <td>0</td>\n",
       "      <td>1</td>\n",
       "      <td>0</td>\n",
       "      <td>0</td>\n",
       "      <td>1</td>\n",
       "      <td>0</td>\n",
       "      <td>0</td>\n",
       "      <td>1</td>\n",
       "      <td>0</td>\n",
       "    </tr>\n",
       "    <tr>\n",
       "      <th>4</th>\n",
       "      <td>57</td>\n",
       "      <td>0</td>\n",
       "      <td>120</td>\n",
       "      <td>354</td>\n",
       "      <td>0</td>\n",
       "      <td>1</td>\n",
       "      <td>163</td>\n",
       "      <td>1</td>\n",
       "      <td>0.6</td>\n",
       "      <td>0</td>\n",
       "      <td>0</td>\n",
       "      <td>0</td>\n",
       "      <td>0</td>\n",
       "      <td>1</td>\n",
       "      <td>0</td>\n",
       "      <td>0</td>\n",
       "      <td>1</td>\n",
       "      <td>0</td>\n",
       "    </tr>\n",
       "  </tbody>\n",
       "</table>\n",
       "</div>"
      ],
      "text/plain": [
       "   age  sex  resting_blood_pressure  serum_cholesterol  fasting_blood_sugar  \\\n",
       "0   63    1                     145                233                    1   \n",
       "1   37    1                     130                250                    0   \n",
       "2   41    0                     130                204                    0   \n",
       "3   56    1                     120                236                    0   \n",
       "4   57    0                     120                354                    0   \n",
       "\n",
       "   rest_ecg  max_heart_rate  exercise_angina  st_depression  \\\n",
       "0         0             150                0            2.3   \n",
       "1         1             187                0            3.5   \n",
       "2         0             172                0            1.4   \n",
       "3         1             178                0            0.8   \n",
       "4         1             163                1            0.6   \n",
       "\n",
       "   num_major_vessels  angina pectoris  atypical angina  non-anginal pain  \\\n",
       "0                  0                0                0                 1   \n",
       "1                  0                0                1                 0   \n",
       "2                  0                1                0                 0   \n",
       "3                  0                1                0                 0   \n",
       "4                  0                0                0                 0   \n",
       "\n",
       "   fixed defect  normal  reversable defect  horizontal  upsloping  \n",
       "0             0       1                  0           0          0  \n",
       "1             1       0                  0           0          0  \n",
       "2             1       0                  0           1          0  \n",
       "3             1       0                  0           1          0  \n",
       "4             1       0                  0           1          0  "
      ]
     },
     "execution_count": 11,
     "metadata": {},
     "output_type": "execute_result"
    }
   ],
   "source": [
    "X.head()"
   ]
  },
  {
   "cell_type": "code",
   "execution_count": 12,
   "metadata": {},
   "outputs": [
    {
     "data": {
      "text/html": [
       "<style  type=\"text/css\" >\n",
       "#T_1c4c5_row0_col0{\n",
       "            background-color:  #ffc77f;\n",
       "            color:  #000000;\n",
       "        }#T_1c4c5_row1_col0{\n",
       "            background-color:  #d78857;\n",
       "            color:  #000000;\n",
       "        }#T_1c4c5_row2_col0{\n",
       "            background-color:  #c17a4e;\n",
       "            color:  #000000;\n",
       "        }#T_1c4c5_row3_col0{\n",
       "            background-color:  #bb764b;\n",
       "            color:  #000000;\n",
       "        }#T_1c4c5_row4_col0{\n",
       "            background-color:  #aa6c45;\n",
       "            color:  #000000;\n",
       "        }#T_1c4c5_row5_col0{\n",
       "            background-color:  #9c623f;\n",
       "            color:  #000000;\n",
       "        }#T_1c4c5_row6_col0{\n",
       "            background-color:  #845435;\n",
       "            color:  #f1f1f1;\n",
       "        }#T_1c4c5_row7_col0{\n",
       "            background-color:  #794d31;\n",
       "            color:  #f1f1f1;\n",
       "        }#T_1c4c5_row8_col0{\n",
       "            background-color:  #603d27;\n",
       "            color:  #f1f1f1;\n",
       "        }#T_1c4c5_row9_col0{\n",
       "            background-color:  #553622;\n",
       "            color:  #f1f1f1;\n",
       "        }#T_1c4c5_row10_col0{\n",
       "            background-color:  #503320;\n",
       "            color:  #f1f1f1;\n",
       "        }#T_1c4c5_row11_col0{\n",
       "            background-color:  #482d1d;\n",
       "            color:  #f1f1f1;\n",
       "        }#T_1c4c5_row12_col0{\n",
       "            background-color:  #362216;\n",
       "            color:  #f1f1f1;\n",
       "        }#T_1c4c5_row13_col0{\n",
       "            background-color:  #2b1b11;\n",
       "            color:  #f1f1f1;\n",
       "        }#T_1c4c5_row14_col0{\n",
       "            background-color:  #1a100a;\n",
       "            color:  #f1f1f1;\n",
       "        }#T_1c4c5_row15_col0{\n",
       "            background-color:  #140c08;\n",
       "            color:  #f1f1f1;\n",
       "        }#T_1c4c5_row16_col0{\n",
       "            background-color:  #0b0704;\n",
       "            color:  #f1f1f1;\n",
       "        }#T_1c4c5_row17_col0{\n",
       "            background-color:  #0a0604;\n",
       "            color:  #f1f1f1;\n",
       "        }#T_1c4c5_row18_col0{\n",
       "            background-color:  #000000;\n",
       "            color:  #f1f1f1;\n",
       "        }</style><table id=\"T_1c4c5_\" ><thead>    <tr>        <th class=\"blank level0\" ></th>        <th class=\"col_heading level0 col0\" >target</th>    </tr></thead><tbody>\n",
       "                <tr>\n",
       "                        <th id=\"T_1c4c5_level0_row0\" class=\"row_heading level0 row0\" >target</th>\n",
       "                        <td id=\"T_1c4c5_row0_col0\" class=\"data row0 col0\" >1.000000</td>\n",
       "            </tr>\n",
       "            <tr>\n",
       "                        <th id=\"T_1c4c5_level0_row1\" class=\"row_heading level0 row1\" >fixed defect</th>\n",
       "                        <td id=\"T_1c4c5_row1_col0\" class=\"data row1 col0\" >0.527334</td>\n",
       "            </tr>\n",
       "            <tr>\n",
       "                        <th id=\"T_1c4c5_level0_row2\" class=\"row_heading level0 row2\" >max_heart_rate</th>\n",
       "                        <td id=\"T_1c4c5_row2_col0\" class=\"data row2 col0\" >0.421741</td>\n",
       "            </tr>\n",
       "            <tr>\n",
       "                        <th id=\"T_1c4c5_level0_row3\" class=\"row_heading level0 row3\" >horizontal</th>\n",
       "                        <td id=\"T_1c4c5_row3_col0\" class=\"data row3 col0\" >0.394066</td>\n",
       "            </tr>\n",
       "            <tr>\n",
       "                        <th id=\"T_1c4c5_level0_row4\" class=\"row_heading level0 row4\" >atypical angina</th>\n",
       "                        <td id=\"T_1c4c5_row4_col0\" class=\"data row4 col0\" >0.316742</td>\n",
       "            </tr>\n",
       "            <tr>\n",
       "                        <th id=\"T_1c4c5_level0_row5\" class=\"row_heading level0 row5\" >angina pectoris</th>\n",
       "                        <td id=\"T_1c4c5_row5_col0\" class=\"data row5 col0\" >0.245879</td>\n",
       "            </tr>\n",
       "            <tr>\n",
       "                        <th id=\"T_1c4c5_level0_row6\" class=\"row_heading level0 row6\" >rest_ecg</th>\n",
       "                        <td id=\"T_1c4c5_row6_col0\" class=\"data row6 col0\" >0.137230</td>\n",
       "            </tr>\n",
       "            <tr>\n",
       "                        <th id=\"T_1c4c5_level0_row7\" class=\"row_heading level0 row7\" >non-anginal pain</th>\n",
       "                        <td id=\"T_1c4c5_row7_col0\" class=\"data row7 col0\" >0.086957</td>\n",
       "            </tr>\n",
       "            <tr>\n",
       "                        <th id=\"T_1c4c5_level0_row8\" class=\"row_heading level0 row8\" >fasting_blood_sugar</th>\n",
       "                        <td id=\"T_1c4c5_row8_col0\" class=\"data row8 col0\" >-0.028046</td>\n",
       "            </tr>\n",
       "            <tr>\n",
       "                        <th id=\"T_1c4c5_level0_row9\" class=\"row_heading level0 row9\" >serum_cholesterol</th>\n",
       "                        <td id=\"T_1c4c5_row9_col0\" class=\"data row9 col0\" >-0.085239</td>\n",
       "            </tr>\n",
       "            <tr>\n",
       "                        <th id=\"T_1c4c5_level0_row10\" class=\"row_heading level0 row10\" >normal</th>\n",
       "                        <td id=\"T_1c4c5_row10_col0\" class=\"data row10 col0\" >-0.106589</td>\n",
       "            </tr>\n",
       "            <tr>\n",
       "                        <th id=\"T_1c4c5_level0_row11\" class=\"row_heading level0 row11\" >resting_blood_pressure</th>\n",
       "                        <td id=\"T_1c4c5_row11_col0\" class=\"data row11 col0\" >-0.144931</td>\n",
       "            </tr>\n",
       "            <tr>\n",
       "                        <th id=\"T_1c4c5_level0_row12\" class=\"row_heading level0 row12\" >age</th>\n",
       "                        <td id=\"T_1c4c5_row12_col0\" class=\"data row12 col0\" >-0.225439</td>\n",
       "            </tr>\n",
       "            <tr>\n",
       "                        <th id=\"T_1c4c5_level0_row13\" class=\"row_heading level0 row13\" >sex</th>\n",
       "                        <td id=\"T_1c4c5_row13_col0\" class=\"data row13 col0\" >-0.280937</td>\n",
       "            </tr>\n",
       "            <tr>\n",
       "                        <th id=\"T_1c4c5_level0_row14\" class=\"row_heading level0 row14\" >upsloping</th>\n",
       "                        <td id=\"T_1c4c5_row14_col0\" class=\"data row14 col0\" >-0.362053</td>\n",
       "            </tr>\n",
       "            <tr>\n",
       "                        <th id=\"T_1c4c5_level0_row15\" class=\"row_heading level0 row15\" >num_major_vessels</th>\n",
       "                        <td id=\"T_1c4c5_row15_col0\" class=\"data row15 col0\" >-0.391724</td>\n",
       "            </tr>\n",
       "            <tr>\n",
       "                        <th id=\"T_1c4c5_level0_row16\" class=\"row_heading level0 row16\" >st_depression</th>\n",
       "                        <td id=\"T_1c4c5_row16_col0\" class=\"data row16 col0\" >-0.430696</td>\n",
       "            </tr>\n",
       "            <tr>\n",
       "                        <th id=\"T_1c4c5_level0_row17\" class=\"row_heading level0 row17\" >exercise_angina</th>\n",
       "                        <td id=\"T_1c4c5_row17_col0\" class=\"data row17 col0\" >-0.436757</td>\n",
       "            </tr>\n",
       "            <tr>\n",
       "                        <th id=\"T_1c4c5_level0_row18\" class=\"row_heading level0 row18\" >reversable defect</th>\n",
       "                        <td id=\"T_1c4c5_row18_col0\" class=\"data row18 col0\" >-0.486112</td>\n",
       "            </tr>\n",
       "    </tbody></table>"
      ],
      "text/plain": [
       "<pandas.io.formats.style.Styler at 0xe3b450>"
      ]
     },
     "execution_count": 12,
     "metadata": {},
     "output_type": "execute_result"
    }
   ],
   "source": [
    "# Let us again look at the correlation against our target variable\n",
    "\n",
    "temp = X.copy()\n",
    "temp['target'] = Y\n",
    "\n",
    "d = temp.corr()\n",
    "pd.DataFrame(d['target']).sort_values(by='target',ascending = False).style.background_gradient(cmap = 'copper')"
   ]
  },
  {
   "cell_type": "markdown",
   "metadata": {},
   "source": [
    "### **We have far better correlations after Scaling and One hot encoding.**"
   ]
  },
  {
   "cell_type": "code",
   "execution_count": 13,
   "metadata": {},
   "outputs": [
    {
     "name": "stdout",
     "output_type": "stream",
     "text": [
      "X-Train: (242, 18)\n",
      "X-Test: (61, 18)\n",
      "Y-Train: (242,)\n",
      "Y-Test: (61,)\n"
     ]
    }
   ],
   "source": [
    "# Splitting the data into test and train \n",
    "\n",
    "X_train, X_test, y_train, y_test = train_test_split(X, Y, test_size=0.2, random_state=42)\n",
    "\n",
    "print(\"X-Train:\",X_train.shape)\n",
    "print(\"X-Test:\",X_test.shape)\n",
    "print(\"Y-Train:\",y_train.shape)\n",
    "print(\"Y-Test:\",y_test.shape)"
   ]
  },
  {
   "cell_type": "code",
   "execution_count": 14,
   "metadata": {},
   "outputs": [],
   "source": [
    "# Scaling the continous data\n",
    "\n",
    "num_columns =  ['resting_blood_pressure','serum_cholesterol', 'age', 'max_heart_rate', 'st_depression']\n",
    "\n",
    "scaler = StandardScaler()\n",
    "\n",
    "scaler.fit(X_train[num_columns])\n",
    "\n",
    "X_train[num_columns] = scaler.transform(X_train[num_columns])\n",
    "\n",
    "X_test[num_columns] = scaler.transform(X_test[num_columns])"
   ]
  },
  {
   "cell_type": "code",
   "execution_count": 15,
   "metadata": {},
   "outputs": [
    {
     "data": {
      "text/html": [
       "<div>\n",
       "<style scoped>\n",
       "    .dataframe tbody tr th:only-of-type {\n",
       "        vertical-align: middle;\n",
       "    }\n",
       "\n",
       "    .dataframe tbody tr th {\n",
       "        vertical-align: top;\n",
       "    }\n",
       "\n",
       "    .dataframe thead th {\n",
       "        text-align: right;\n",
       "    }\n",
       "</style>\n",
       "<table border=\"1\" class=\"dataframe\">\n",
       "  <thead>\n",
       "    <tr style=\"text-align: right;\">\n",
       "      <th></th>\n",
       "      <th>age</th>\n",
       "      <th>sex</th>\n",
       "      <th>resting_blood_pressure</th>\n",
       "      <th>serum_cholesterol</th>\n",
       "      <th>fasting_blood_sugar</th>\n",
       "      <th>rest_ecg</th>\n",
       "      <th>max_heart_rate</th>\n",
       "      <th>exercise_angina</th>\n",
       "      <th>st_depression</th>\n",
       "      <th>num_major_vessels</th>\n",
       "      <th>angina pectoris</th>\n",
       "      <th>atypical angina</th>\n",
       "      <th>non-anginal pain</th>\n",
       "      <th>fixed defect</th>\n",
       "      <th>normal</th>\n",
       "      <th>reversable defect</th>\n",
       "      <th>horizontal</th>\n",
       "      <th>upsloping</th>\n",
       "    </tr>\n",
       "  </thead>\n",
       "  <tbody>\n",
       "    <tr>\n",
       "      <th>132</th>\n",
       "      <td>-1.356798</td>\n",
       "      <td>1</td>\n",
       "      <td>-0.616856</td>\n",
       "      <td>0.914034</td>\n",
       "      <td>0</td>\n",
       "      <td>1</td>\n",
       "      <td>0.532781</td>\n",
       "      <td>0</td>\n",
       "      <td>-0.920864</td>\n",
       "      <td>0</td>\n",
       "      <td>1</td>\n",
       "      <td>0</td>\n",
       "      <td>0</td>\n",
       "      <td>1</td>\n",
       "      <td>0</td>\n",
       "      <td>0</td>\n",
       "      <td>1</td>\n",
       "      <td>0</td>\n",
       "    </tr>\n",
       "    <tr>\n",
       "      <th>202</th>\n",
       "      <td>0.385086</td>\n",
       "      <td>1</td>\n",
       "      <td>1.169491</td>\n",
       "      <td>0.439527</td>\n",
       "      <td>0</td>\n",
       "      <td>0</td>\n",
       "      <td>-1.753582</td>\n",
       "      <td>1</td>\n",
       "      <td>-0.193787</td>\n",
       "      <td>0</td>\n",
       "      <td>0</td>\n",
       "      <td>0</td>\n",
       "      <td>0</td>\n",
       "      <td>0</td>\n",
       "      <td>0</td>\n",
       "      <td>1</td>\n",
       "      <td>1</td>\n",
       "      <td>0</td>\n",
       "    </tr>\n",
       "    <tr>\n",
       "      <th>196</th>\n",
       "      <td>-0.921327</td>\n",
       "      <td>1</td>\n",
       "      <td>1.169491</td>\n",
       "      <td>-0.300704</td>\n",
       "      <td>0</td>\n",
       "      <td>1</td>\n",
       "      <td>-0.139679</td>\n",
       "      <td>0</td>\n",
       "      <td>2.350982</td>\n",
       "      <td>0</td>\n",
       "      <td>0</td>\n",
       "      <td>1</td>\n",
       "      <td>0</td>\n",
       "      <td>1</td>\n",
       "      <td>0</td>\n",
       "      <td>0</td>\n",
       "      <td>0</td>\n",
       "      <td>1</td>\n",
       "    </tr>\n",
       "    <tr>\n",
       "      <th>75</th>\n",
       "      <td>0.058483</td>\n",
       "      <td>0</td>\n",
       "      <td>0.276318</td>\n",
       "      <td>0.059921</td>\n",
       "      <td>0</td>\n",
       "      <td>0</td>\n",
       "      <td>0.487950</td>\n",
       "      <td>0</td>\n",
       "      <td>0.351521</td>\n",
       "      <td>0</td>\n",
       "      <td>1</td>\n",
       "      <td>0</td>\n",
       "      <td>0</td>\n",
       "      <td>1</td>\n",
       "      <td>0</td>\n",
       "      <td>0</td>\n",
       "      <td>0</td>\n",
       "      <td>1</td>\n",
       "    </tr>\n",
       "    <tr>\n",
       "      <th>176</th>\n",
       "      <td>0.602822</td>\n",
       "      <td>1</td>\n",
       "      <td>-0.795490</td>\n",
       "      <td>-0.319684</td>\n",
       "      <td>1</td>\n",
       "      <td>1</td>\n",
       "      <td>0.443119</td>\n",
       "      <td>1</td>\n",
       "      <td>0.351521</td>\n",
       "      <td>2</td>\n",
       "      <td>0</td>\n",
       "      <td>0</td>\n",
       "      <td>0</td>\n",
       "      <td>0</td>\n",
       "      <td>0</td>\n",
       "      <td>1</td>\n",
       "      <td>1</td>\n",
       "      <td>0</td>\n",
       "    </tr>\n",
       "  </tbody>\n",
       "</table>\n",
       "</div>"
      ],
      "text/plain": [
       "          age  sex  resting_blood_pressure  serum_cholesterol  \\\n",
       "132 -1.356798    1               -0.616856           0.914034   \n",
       "202  0.385086    1                1.169491           0.439527   \n",
       "196 -0.921327    1                1.169491          -0.300704   \n",
       "75   0.058483    0                0.276318           0.059921   \n",
       "176  0.602822    1               -0.795490          -0.319684   \n",
       "\n",
       "     fasting_blood_sugar  rest_ecg  max_heart_rate  exercise_angina  \\\n",
       "132                    0         1        0.532781                0   \n",
       "202                    0         0       -1.753582                1   \n",
       "196                    0         1       -0.139679                0   \n",
       "75                     0         0        0.487950                0   \n",
       "176                    1         1        0.443119                1   \n",
       "\n",
       "     st_depression  num_major_vessels  angina pectoris  atypical angina  \\\n",
       "132      -0.920864                  0                1                0   \n",
       "202      -0.193787                  0                0                0   \n",
       "196       2.350982                  0                0                1   \n",
       "75        0.351521                  0                1                0   \n",
       "176       0.351521                  2                0                0   \n",
       "\n",
       "     non-anginal pain  fixed defect  normal  reversable defect  horizontal  \\\n",
       "132                 0             1       0                  0           1   \n",
       "202                 0             0       0                  1           1   \n",
       "196                 0             1       0                  0           0   \n",
       "75                  0             1       0                  0           0   \n",
       "176                 0             0       0                  1           1   \n",
       "\n",
       "     upsloping  \n",
       "132          0  \n",
       "202          0  \n",
       "196          1  \n",
       "75           1  \n",
       "176          0  "
      ]
     },
     "execution_count": 15,
     "metadata": {},
     "output_type": "execute_result"
    }
   ],
   "source": [
    "X_train.head()"
   ]
  },
  {
   "cell_type": "markdown",
   "metadata": {},
   "source": [
    "# Modelling"
   ]
  },
  {
   "cell_type": "markdown",
   "metadata": {},
   "source": [
    "### Logistic Regression"
   ]
  },
  {
   "cell_type": "code",
   "execution_count": 28,
   "metadata": {},
   "outputs": [],
   "source": [
    "# Creating a function to plot correlation matrix and roc_auc_curve\n",
    "\n",
    "def show_metrics(model):\n",
    "    fig = plt.figure(figsize=(25, 10))\n",
    "\n",
    "    # Confusion matrix\n",
    "    fig.add_subplot(121)\n",
    "    sns.heatmap(confusion_matrix(y_test, y_pred), annot=True, annot_kws={\"size\": 16}, fmt='g')\n",
    "\n",
    "    # ROC Curve\n",
    "    fig.add_subplot(122)\n",
    "    \n",
    "    \n",
    "    auc_roc = roc_auc_score(y_test, model.predict(X_test))\n",
    "    fpr, tpr, thresholds = roc_curve(y_test, model.predict_proba(X_test)[:,1])\n",
    "\n",
    "    plt.plot(fpr, tpr, color='darkorange', lw=2, marker='o', label='Trained Model (area = {0:0.3f})'.format(auc_roc))\n",
    "    plt.plot([0, 1], [0, 1], color='blue', lw=2, linestyle='--', label= 'No Skill (area = 0.500)')\n",
    "    plt.xlim([0.0, 1.0])\n",
    "    plt.ylim([0.0, 1.05])\n",
    "    plt.xlabel('False Positive Rate')\n",
    "    plt.ylabel('True Positive Rate')\n",
    "    plt.title('Receiver operating characteristic')\n",
    "    plt.legend(loc=\"lower right\")\n",
    "    plt.show()"
   ]
  },
  {
   "cell_type": "code",
   "execution_count": 29,
   "metadata": {},
   "outputs": [],
   "source": [
    "# creating our model instance\n",
    "log_reg = LogisticRegression()\n",
    "\n",
    "# fitting the model\n",
    "log_reg.fit(X_train, y_train)\n",
    "\n",
    "# predicting the target vectors\n",
    "y_pred=log_reg.predict(X_test)"
   ]
  },
  {
   "cell_type": "code",
   "execution_count": 30,
   "metadata": {},
   "outputs": [
    {
     "data": {
      "image/png": "[encoded data removed]",
      "text/plain": [
       "<Figure size 1800x720 with 3 Axes>"
      ]
     },
     "metadata": {
      "needs_background": "light"
     },
     "output_type": "display_data"
    }
   ],
   "source": [
    "# calling our show_metrics function\n",
    "\n",
    "show_metrics(log_reg)"
   ]
  },
  {
   "cell_type": "code",
   "execution_count": 31,
   "metadata": {},
   "outputs": [
    {
     "name": "stdout",
     "output_type": "stream",
     "text": [
      "The accuracy on test set using Logistic Regression is: 90.2%\n"
     ]
    }
   ],
   "source": [
    "# let's look at our accuracy\n",
    "\n",
    "accuracy = accuracy_score(y_pred, y_test)\n",
    "\n",
    "print(f\"The accuracy on test set using Logistic Regression is: {np.round(accuracy, 3)*100.0}%\")"
   ]
  },
  {
   "cell_type": "markdown",
   "metadata": {},
   "source": [
    "**Woah, 90% on the first try!**\n",
    "\n",
    "**Logistic Regression seems to work very well as it is easily able to draw hyperplane and the reason for that can be - Patients with higher ages usually have the problem of high_blood_pressure thus which make it easy to seperate it from the low age patients. (This Speculation might be wrong!)**"
   ]
  },
  {
   "cell_type": "code",
   "execution_count": 32,
   "metadata": {},
   "outputs": [
    {
     "name": "stdout",
     "output_type": "stream",
     "text": [
      "              precision    recall  f1-score   support\n",
      "\n",
      "           0       0.87      0.93      0.90        29\n",
      "           1       0.93      0.88      0.90        32\n",
      "\n",
      "    accuracy                           0.90        61\n",
      "   macro avg       0.90      0.90      0.90        61\n",
      "weighted avg       0.90      0.90      0.90        61\n",
      "\n"
     ]
    }
   ],
   "source": [
    "# Getting precision, recall and f1-score via classification report\n",
    "\n",
    "print(classification_report(y_test, y_pred))"
   ]
  },
  {
   "cell_type": "markdown",
   "metadata": {},
   "source": [
    "### KNearestNeighbors"
   ]
  },
  {
   "cell_type": "code",
   "execution_count": 33,
   "metadata": {},
   "outputs": [
    {
     "name": "stdout",
     "output_type": "stream",
     "text": [
      "The optimal K value is with default weight parameter:  27\n"
     ]
    }
   ],
   "source": [
    "from sklearn.neighbors import KNeighborsClassifier\n",
    "\n",
    "# creating a list of K's for performing KNN\n",
    "my_list = list(range(0,30))\n",
    "\n",
    "# filtering out only the odd K values\n",
    "neighbors = list(filter(lambda x: x % 2 != 0, my_list))\n",
    "\n",
    "# list to hold the cv scores\n",
    "cv_scores = []\n",
    "\n",
    "# perform 10-fold cross validation with default weights\n",
    "for k in neighbors:\n",
    "  Knn = KNeighborsClassifier(n_neighbors = k, algorithm = 'brute')\n",
    "  scores = cross_val_score(Knn, X_train, y_train, cv=10, scoring='accuracy', n_jobs = -1)\n",
    "  cv_scores.append(scores.mean())\n",
    "\n",
    "# finding the optimal k\n",
    "optimal_k = neighbors[cv_scores.index(max(cv_scores))]\n",
    "print(\"The optimal K value is with default weight parameter: \", optimal_k)"
   ]
  },
  {
   "cell_type": "markdown",
   "metadata": {},
   "source": [
    "**We got our optimal value of K as 27 so now let's look at how our accuracy varied across all K's we tried during KFoldCV. This is sometimes important because if our Hyperparameter is giving same accuracy for a wide range of values so it is better to do early stopping and use the lower value which will avoid Underfitting or Overfitting.** \n",
    "\n",
    "**In our case, KNN would underfit for large values of K**"
   ]
  },
  {
   "cell_type": "code",
   "execution_count": 34,
   "metadata": {},
   "outputs": [
    {
     "data": {
      "image/png": "[encoded data removed]",
      "text/plain": [
       "<Figure size 432x288 with 1 Axes>"
      ]
     },
     "metadata": {
      "needs_background": "light"
     },
     "output_type": "display_data"
    },
    {
     "name": "stdout",
     "output_type": "stream",
     "text": [
      "Accuracy scores for each K value is :  [0.74  0.769 0.765 0.781 0.782 0.769 0.777 0.789 0.769 0.789 0.789 0.785\n",
      " 0.793 0.802 0.797]\n"
     ]
    }
   ],
   "source": [
    "# plotting accuracy vs K\n",
    "plt.plot(neighbors, cv_scores)\n",
    "plt.xlabel(\"Number of Neighbors K\")\n",
    "plt.ylabel(\"Accuracy\")\n",
    "plt.title(\"Accuracy vs K Plot for normal \")\n",
    "plt.grid()\n",
    "plt.show()\n",
    "\n",
    "print(\"Accuracy scores for each K value is : \", np.round(cv_scores, 3))"
   ]
  },
  {
   "cell_type": "markdown",
   "metadata": {},
   "source": [
    "**Looks like we got our best K. Now, lets fit our training data using this K and find out the accuracy on test.**"
   ]
  },
  {
   "cell_type": "code",
   "execution_count": 35,
   "metadata": {},
   "outputs": [
    {
     "name": "stdout",
     "output_type": "stream",
     "text": [
      "The accuracy on test set using KNN for optimal K = 27 is 85.246%\n"
     ]
    }
   ],
   "source": [
    "# Finding the accuracy of KNN with optimal K\n",
    "\n",
    "from sklearn.metrics import accuracy_score\n",
    "\n",
    "# create instance of classifier\n",
    "knn_optimal = KNeighborsClassifier(n_neighbors = optimal_k, algorithm = 'kd_tree', \n",
    "                                   n_jobs = -1)\n",
    "\n",
    "# fit the model\n",
    "knn_optimal.fit(X_train, y_train)\n",
    "\n",
    "# predict on test vector\n",
    "y_pred = knn_optimal.predict(X_test)\n",
    "\n",
    "# evaluate accuracy score\n",
    "accuracy = accuracy_score(y_test, y_pred)*100\n",
    "print(f\"The accuracy on test set using KNN for optimal K = {optimal_k} is {np.round(accuracy, 3)}%\")"
   ]
  },
  {
   "cell_type": "markdown",
   "metadata": {},
   "source": [
    "### **~85 is not very good but isn't bad either!**"
   ]
  },
  {
   "cell_type": "code",
   "execution_count": 36,
   "metadata": {},
   "outputs": [
    {
     "data": {
      "image/png": "[encoded data removed]",
      "text/plain": [
       "<Figure size 1800x720 with 3 Axes>"
      ]
     },
     "metadata": {
      "needs_background": "light"
     },
     "output_type": "display_data"
    }
   ],
   "source": [
    "# calling our show_metrics function\n",
    "\n",
    "show_metrics(knn_optimal)"
   ]
  },
  {
   "cell_type": "markdown",
   "metadata": {},
   "source": [
    "## Support Vector Machine"
   ]
  },
  {
   "cell_type": "code",
   "execution_count": 37,
   "metadata": {},
   "outputs": [
    {
     "name": "stdout",
     "output_type": "stream",
     "text": [
      "The accuracy on test set using SVC is: 88.5%\n"
     ]
    }
   ],
   "source": [
    "# Creating an instance of the classifier\n",
    "svm = SVC()\n",
    "\n",
    "# training on train data\n",
    "svm.fit(X_train, y_train)\n",
    "\n",
    "# predicting on test data\n",
    "y_pred = svm.predict(X_test)\n",
    "\n",
    "# let's look at our accuracy\n",
    "accuracy = accuracy_score(y_pred, y_test)\n",
    "\n",
    "print(f\"The accuracy on test set using SVC is: {np.round(accuracy, 3)*100.0}%\")"
   ]
  },
  {
   "cell_type": "markdown",
   "metadata": {},
   "source": [
    "**SVM did a good job predicting the labels, scoring ~89%**"
   ]
  },
  {
   "cell_type": "markdown",
   "metadata": {},
   "source": [
    "### Ensemble Models - Random Forest Classifier\n",
    "\n",
    "**Trees are very easy to overfit so we will first do a RandomSearchCV to find the best parameters.**"
   ]
  },
  {
   "cell_type": "code",
   "execution_count": 38,
   "metadata": {},
   "outputs": [
    {
     "name": "stdout",
     "output_type": "stream",
     "text": [
      "{'n_estimators': [200, 400, 600, 800, 1000, 1200, 1400, 1600, 1800, 2000], 'max_features': ['auto', 'sqrt'], 'max_depth': [10, 20, 30, 40, 50, 60, 70, 80, 90, 100, 110, None], 'min_samples_split': [2, 5, 10], 'min_samples_leaf': [1, 2, 4], 'bootstrap': [True, False]}\n"
     ]
    }
   ],
   "source": [
    "# Number of trees in random forest\n",
    "n_estimators = [int(x) for x in np.linspace(start = 200, stop = 2000, num = 10)]\n",
    "\n",
    "# Number of features to consider at every split\n",
    "max_features = ['auto', 'sqrt']\n",
    "\n",
    "# Maximum number of levels in tree\n",
    "max_depth = [int(x) for x in np.linspace(10, 110, num = 11)]\n",
    "max_depth.append(None)\n",
    "\n",
    "# Minimum number of samples required to split a node\n",
    "min_samples_split = [2, 5, 10]\n",
    "\n",
    "# Minimum number of samples required at each leaf node\n",
    "min_samples_leaf = [1, 2, 4]\n",
    "\n",
    "# Method of selecting samples for training each tree\n",
    "bootstrap = [True, False]\n",
    "\n",
    "# Create the random grid\n",
    "random_grid = {'n_estimators': n_estimators,\n",
    "               'max_features': max_features,\n",
    "               'max_depth': max_depth,\n",
    "               'min_samples_split': min_samples_split,\n",
    "               'min_samples_leaf': min_samples_leaf,\n",
    "               'bootstrap': bootstrap}\n",
    "\n",
    "print(random_grid)"
   ]
  },
  {
   "cell_type": "code",
   "execution_count": 39,
   "metadata": {},
   "outputs": [
    {
     "name": "stdout",
     "output_type": "stream",
     "text": [
      "Fitting 3 folds for each of 100 candidates, totalling 300 fits\n"
     ]
    },
    {
     "data": {
      "text/plain": [
       "RandomizedSearchCV(cv=3, estimator=RandomForestClassifier(), n_iter=100,\n",
       "                   n_jobs=-1,\n",
       "                   param_distributions={'bootstrap': [True, False],\n",
       "                                        'max_depth': [10, 20, 30, 40, 50, 60,\n",
       "                                                      70, 80, 90, 100, 110,\n",
       "                                                      None],\n",
       "                                        'max_features': ['auto', 'sqrt'],\n",
       "                                        'min_samples_leaf': [1, 2, 4],\n",
       "                                        'min_samples_split': [2, 5, 10],\n",
       "                                        'n_estimators': [200, 400, 600, 800,\n",
       "                                                         1000, 1200, 1400, 1600,\n",
       "                                                         1800, 2000]},\n",
       "                   random_state=42, verbose=2)"
      ]
     },
     "execution_count": 39,
     "metadata": {},
     "output_type": "execute_result"
    }
   ],
   "source": [
    "# Use the random grid to search for best hyperparameters\n",
    "\n",
    "# First create the base model to tune\n",
    "rf = RandomForestClassifier()\n",
    "\n",
    "# Random search of parameters, using 3 fold cross validation, \n",
    "# search across 100 different combinations, and use all available cores\n",
    "rf_random = RandomizedSearchCV(estimator = rf, param_distributions = random_grid, n_iter = 100, cv = 3, verbose=2, random_state=42, n_jobs = -1)\n",
    "\n",
    "# Fit the random search model\n",
    "rf_random.fit(X_train, y_train)"
   ]
  },
  {
   "cell_type": "markdown",
   "metadata": {},
   "source": [
    "For me personally, I set random_state to a specific number (usually 42) so if I see variation in my programs accuracy I know it was not caused by how the data was split.\n",
    "\n",
    "However, this can lead to my network over fitting on that specific split. So I tune my network so it works well with that split, but not necessarily on a different split."
   ]
  },
  {
   "cell_type": "code",
   "execution_count": 40,
   "metadata": {},
   "outputs": [
    {
     "data": {
      "text/plain": [
       "{'n_estimators': 2000,\n",
       " 'min_samples_split': 10,\n",
       " 'min_samples_leaf': 2,\n",
       " 'max_features': 'auto',\n",
       " 'max_depth': 40,\n",
       " 'bootstrap': True}"
      ]
     },
     "execution_count": 40,
     "metadata": {},
     "output_type": "execute_result"
    }
   ],
   "source": [
    "# Lets look at the best parameters\n",
    "\n",
    "rf_random.best_params_"
   ]
  },
  {
   "cell_type": "code",
   "execution_count": 41,
   "metadata": {},
   "outputs": [],
   "source": [
    "# Creating an instance for the classifier\n",
    "rf_best = RandomForestClassifier(**rf_random.best_params_)\n",
    "\n",
    "# fitting the model\n",
    "rf_best.fit(X_train, y_train)\n",
    "\n",
    "# predict the labels\n",
    "y_pred = rf_best.predict(X_test)"
   ]
  },
  {
   "cell_type": "code",
   "execution_count": 42,
   "metadata": {},
   "outputs": [
    {
     "name": "stdout",
     "output_type": "stream",
     "text": [
      "The accuracy on test set using RandomForest is: 82.0%\n"
     ]
    }
   ],
   "source": [
    "accuracy = accuracy_score(y_pred, y_test)\n",
    "\n",
    "print(f\"The accuracy on test set using RandomForest is: {np.round(accuracy, 3)*100.0}%\")"
   ]
  },
  {
   "cell_type": "code",
   "execution_count": 43,
   "metadata": {},
   "outputs": [
    {
     "data": {
      "image/png": "[encoded data removed]",
      "text/plain": [
       "<Figure size 1800x720 with 3 Axes>"
      ]
     },
     "metadata": {
      "needs_background": "light"
     },
     "output_type": "display_data"
    }
   ],
   "source": [
    "# calling our show_metrics function\n",
    "\n",
    "show_metrics(rf_best)"
   ]
  },
  {
   "cell_type": "markdown",
   "metadata": {},
   "source": [
    "### Ensemble Models - Voting Classifier\n",
    "\n",
    "**It is always good to use esemble models beacuse they are very effective. Here, I will be using Voting Classifier which does exaclty what it sounds like. It takes mulitple models and combine them together and do voting on the prediction and picks the best for us.**\n",
    "\n",
    "**Let's combine all the models together!**"
   ]
  },
  {
   "cell_type": "code",
   "execution_count": 44,
   "metadata": {},
   "outputs": [
    {
     "name": "stdout",
     "output_type": "stream",
     "text": [
      "Training the LogisticRegression()\n",
      "Training the KNeighborsClassifier(algorithm='kd_tree', n_jobs=-1, n_neighbors=27)\n",
      "Training the RandomForestClassifier(max_depth=40, min_samples_leaf=2, min_samples_split=10,\n",
      "                       n_estimators=2000)\n",
      "Training the SVC()\n"
     ]
    }
   ],
   "source": [
    "# creating a list of our models\n",
    "ensembles = [log_reg, knn_optimal, rf_best, svm]\n",
    "\n",
    "# Train each of the model\n",
    "for estimator in ensembles:\n",
    "    print(\"Training the\", estimator)\n",
    "    estimator.fit(X_train,y_train)"
   ]
  },
  {
   "cell_type": "code",
   "execution_count": 45,
   "metadata": {},
   "outputs": [
    {
     "data": {
      "text/plain": [
       "[0.9016393442622951,\n",
       " 0.8524590163934426,\n",
       " 0.8524590163934426,\n",
       " 0.8852459016393442]"
      ]
     },
     "execution_count": 45,
     "metadata": {},
     "output_type": "execute_result"
    }
   ],
   "source": [
    "# Find the scores of each estimator\n",
    "scores = [estimator.score(X_test, y_test) for estimator in ensembles]\n",
    "\n",
    "scores"
   ]
  },
  {
   "cell_type": "code",
   "execution_count": 46,
   "metadata": {},
   "outputs": [],
   "source": [
    "# Lets define our estimators in a list\n",
    "\n",
    "named_estimators = [\n",
    "    (\"log_reg\",log_reg),\n",
    "    ('random_forest', rf_best),\n",
    "    ('svm',svm),\n",
    "    ('knn', knn_optimal),\n",
    "]"
   ]
  },
  {
   "cell_type": "code",
   "execution_count": 47,
   "metadata": {},
   "outputs": [],
   "source": [
    "# Creating an instance for our Voting classifier\n",
    "\n",
    "voting_clf = VotingClassifier(named_estimators)"
   ]
  },
  {
   "cell_type": "code",
   "execution_count": 48,
   "metadata": {},
   "outputs": [
    {
     "data": {
      "text/plain": [
       "VotingClassifier(estimators=[('log_reg', LogisticRegression()),\n",
       "                             ('random_forest',\n",
       "                              RandomForestClassifier(max_depth=40,\n",
       "                                                     min_samples_leaf=2,\n",
       "                                                     min_samples_split=10,\n",
       "                                                     n_estimators=2000)),\n",
       "                             ('svm', SVC()),\n",
       "                             ('knn',\n",
       "                              KNeighborsClassifier(algorithm='kd_tree',\n",
       "                                                   n_jobs=-1,\n",
       "                                                   n_neighbors=27))])"
      ]
     },
     "execution_count": 48,
     "metadata": {},
     "output_type": "execute_result"
    }
   ],
   "source": [
    "# Fit the classifier\n",
    "\n",
    "voting_clf.fit(X_train,y_train)"
   ]
  },
  {
   "cell_type": "code",
   "execution_count": 51,
   "metadata": {},
   "outputs": [
    {
     "name": "stdout",
     "output_type": "stream",
     "text": [
      "The accuracy on test set using voting classifier is 90.2%\n"
     ]
    }
   ],
   "source": [
    "# Let's look at our accuracy\n",
    "acc = voting_clf.score(X_test,y_test)\n",
    "\n",
    "print(f\"The accuracy on test set using voting classifier is {np.round(acc, 3)*100}%\")"
   ]
  },
  {
   "cell_type": "markdown",
   "metadata": {},
   "source": [
    "**No, Improvement at all!**\n",
    "\n",
    "**Lets generate all permutations of the names_estimators list of length 3 and then check if the do any better.**"
   ]
  },
  {
   "cell_type": "code",
   "execution_count": 52,
   "metadata": {},
   "outputs": [],
   "source": [
    "# to generate permutations of length three\n",
    "perm = permutations(named_estimators, 3) \n",
    "\n",
    "# to store the acc and classifiers\n",
    "best_perm = []\n",
    "\n",
    "# to store best classifier\n",
    "best=[]\n",
    "\n",
    "# Traverse through the obtained permutations\n",
    "for i in list(perm):\n",
    "    \n",
    "    # fit the classifier\n",
    "    voting_clf = VotingClassifier(i)\n",
    "    voting_clf.fit(X_train,y_train)\n",
    "    \n",
    "    # obtain accracy score and append it to the list\n",
    "    acc = voting_clf.score(X_test,y_test)\n",
    "    best_perm.append([acc,voting_clf])\n",
    "    \n",
    "\n",
    "# find out the maximum accuracy\n",
    "maximum = max(best_perm, key = lambda x:x[0])\n",
    "              \n",
    "# there can be multiple permutations for which we get \n",
    "# best score so find all of them and append to best\n",
    "for i in range(len(best_perm)):\n",
    "    if maximum[0]==best_perm[i][0]:\n",
    "        best.append(best_perm[i][1])"
   ]
  },
  {
   "cell_type": "code",
   "execution_count": 38,
   "metadata": {},
   "outputs": [],
   "source": [
    "# Using the best score permutations\n",
    "\n",
    "acc_scores = []\n",
    "\n",
    "for i in range(len(best)):\n",
    "    \n",
    "    voting_clf = best[i]\n",
    "    \n",
    "    # fit the classifier\n",
    "    voting_clf.fit(X_train,y_train)\n",
    "    \n",
    "    # Let's look at our accuracy\n",
    "    acc_scores.append(voting_clf.score(X_test,y_test))"
   ]
  },
  {
   "cell_type": "code",
   "execution_count": 39,
   "metadata": {},
   "outputs": [
    {
     "name": "stdout",
     "output_type": "stream",
     "text": [
      "The accuracy on test set using voting classifier is 90.2%\n"
     ]
    }
   ],
   "source": [
    "print(f\"The accuracy on test set using voting classifier is {np.round(max(acc_scores), 3)*100}%\")"
   ]
  },
  {
   "cell_type": "markdown",
   "metadata": {},
   "source": []
  },
  {
   "cell_type": "markdown",
   "metadata": {},
   "source": [
    "# END-OF-MODEL\n"
   ]
  }
 ],
 "metadata": {
  "kernelspec": {
   "display_name": "Python 3",
   "language": "python",
   "name": "python3"
  },
  "language_info": {
   "codemirror_mode": {
    "name": "ipython",
    "version": 3
   },
   "file_extension": ".py",
   "mimetype": "text/x-python",
   "name": "python",
   "nbconvert_exporter": "python",
   "pygments_lexer": "ipython3",
   "version": "3.7.6"
  }
 },
 "nbformat": 4,
 "nbformat_minor": 4
}
